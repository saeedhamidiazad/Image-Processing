{
  "nbformat": 4,
  "nbformat_minor": 0,
  "metadata": {
    "colab": {
      "provenance": []
    },
    "kernelspec": {
      "name": "python3",
      "display_name": "Python 3"
    },
    "language_info": {
      "name": "python"
    }
  },
  "cells": [
    {
      "cell_type": "code",
      "execution_count": null,
      "metadata": {
        "id": "KgmYfcJ27lhT"
      },
      "outputs": [],
      "source": [
        "pip install h5py tensorflow scikit-learn"
      ]
    },
    {
      "cell_type": "code",
      "source": [
        "# Mount Google Drive\n",
        "from google.colab import drive\n",
        "drive.mount('/content/drive')"
      ],
      "metadata": {
        "colab": {
          "base_uri": "https://localhost:8080/"
        },
        "id": "577wH4koXjk6",
        "outputId": "72b9c6b8-5067-4a1e-f222-9f2b28311005"
      },
      "execution_count": null,
      "outputs": [
        {
          "output_type": "stream",
          "name": "stdout",
          "text": [
            "Mounted at /content/drive\n"
          ]
        }
      ]
    },
    {
      "cell_type": "code",
      "source": [
        "import h5py\n",
        "import numpy as np\n",
        "from tensorflow.keras.models import Sequential\n",
        "from tensorflow.keras.layers import Dense, Conv2D, Flatten, MaxPooling2D, Dropout\n",
        "from sklearn.model_selection import train_test_split\n",
        "from sklearn.preprocessing import LabelEncoder\n",
        "from tensorflow.keras import layers, models, optimizers\n",
        "from tensorflow.keras.utils import to_categorical\n",
        "from google.colab import drive\n",
        "from tensorflow.keras.callbacks import ModelCheckpoint\n",
        "from skimage.transform import resize\n",
        "\n",
        "\n",
        "def load_and_preprocess_data(file_paths, target_size=(224, 224)):\n",
        "    images = []\n",
        "    labels = []\n",
        "    tumor_masks = []\n",
        "\n",
        "    for file_path in file_paths:\n",
        "        with h5py.File(file_path, 'r') as file:\n",
        "            data = file['cjdata']\n",
        "            image = np.array(data['image'], dtype=np.float32) / 255.0\n",
        "            label = data['label'][0, 0] - 1  # Convert labels to 0-indexing\n",
        "            tumor_mask = np.array(data['tumorMask'], dtype=np.float32)\n",
        "\n",
        "            # Resize the image to the target size\n",
        "            image_resized = resize(image, target_size, anti_aliasing=True)\n",
        "            mask_resized = resize(tumor_mask, target_size, anti_aliasing=True)\n",
        "\n",
        "            images.append(image_resized)\n",
        "            labels.append(label)\n",
        "            tumor_masks.append(mask_resized)\n",
        "\n",
        "    # Convert to NumPy arrays\n",
        "    images = np.array(images)\n",
        "    labels = np.array(labels)\n",
        "    tumor_masks = np.array(tumor_masks)\n",
        "\n",
        "    # Ensure the images have the correct shape\n",
        "    images = images.reshape(images.shape[0], target_size[0], target_size[1], 1)\n",
        "    tumor_masks = tumor_masks.reshape(tumor_masks.shape[0], target_size[0], target_size[1], 1)\n",
        "\n",
        "    return images, labels ,tumor_masks\n",
        "\n",
        "# Get the list of file paths in the Google Drive folder\n",
        "drive_folder = '/content/drive/MyDrive/figshare_dataset/data/'\n",
        "file_paths = [drive_folder + f'{i}.mat' for i in range(1, 3065)]  # Assuming files are named 1.mat to 3064.mat\n",
        "\n",
        "# Load and preprocess the data\n",
        "images, labels, segmentation_masks = load_and_preprocess_data(file_paths)"
      ],
      "metadata": {
        "id": "ixMr7MJ_XjoC"
      },
      "execution_count": null,
      "outputs": []
    },
    {
      "cell_type": "code",
      "source": [
        "from tensorflow.keras.applications import ResNet50\n",
        "import cv2\n",
        "from keras.preprocessing import image\n",
        "from keras.applications.resnet50 import preprocess_input, decode_predictions\n",
        "import numpy as np\n",
        "\n"
      ],
      "metadata": {
        "id": "ZtTNk5PdYu1V"
      },
      "execution_count": null,
      "outputs": []
    },
    {
      "cell_type": "code",
      "source": [
        "rgb_image = np.repeat(images, 3, axis=-1)\n"
      ],
      "metadata": {
        "id": "3EAC3m-tYzVn"
      },
      "execution_count": null,
      "outputs": []
    },
    {
      "cell_type": "code",
      "source": [
        "# Split the data into training and testing sets\n",
        "X_train, X_test, y_train, y_test = train_test_split(rgb_image, labels, test_size=0.2, random_state=42)\n",
        "\n",
        "# Convert labels to one-hot encoding\n",
        "label_encoder = LabelEncoder()\n",
        "y_train_encoded = to_categorical(label_encoder.fit_transform(y_train))\n",
        "y_test_encoded = to_categorical(label_encoder.transform(y_test))\n",
        "\n",
        "# Define ResNet50 model using the pre-trained weights on ImageNet\n",
        "base_model = ResNet50(input_shape=(224, 224, 3), include_top=False, weights='imagenet')\n",
        "\n",
        "# Freeze convolutional layers\n",
        "for layer in base_model.layers:\n",
        "    layer.trainable = False\n",
        "\n",
        "# Create a new model on top\n",
        "model = models.Sequential()\n",
        "model.add(base_model)\n",
        "model.add(layers.Flatten())\n",
        "model.add(layers.Dense(128, activation=('relu')))\n",
        "model.add(layers.Dropout(0.2))\n",
        "model.add(layers.Dense(64, activation=('relu')))\n",
        "model.add(layers.Dropout(0.2))\n",
        "model.add(layers.Dense(3, activation=('softmax')))\n",
        "\n",
        "# Compile the model\n",
        "model.compile(optimizer='adam', loss='categorical_crossentropy', metrics=['accuracy'])\n",
        "\n",
        "# Display the model architecture and layer sizes\n",
        "model.summary()\n",
        "\n",
        "# Train the model\n",
        "history = model.fit(X_train, y_train_encoded, epochs=10, validation_data=(X_test, y_test_encoded))\n",
        "\n",
        "# Print accuracy after each epoch\n",
        "for epoch, acc in enumerate(history.history['accuracy']):\n",
        "    print(f\"Epoch {epoch + 1}/{len(history.history['accuracy'])} - Accuracy: {acc:.4f}\")\n",
        "\n",
        "# Plot accuracy\n",
        "import matplotlib.pyplot as plt\n",
        "plt.plot(history.history['accuracy'], label='accuracy')\n",
        "plt.plot(history.history['val_accuracy'], label='val_accuracy')\n",
        "plt.xlabel('Epoch')\n",
        "plt.ylabel('Accuracy')\n",
        "plt.legend()\n",
        "plt.show()"
      ],
      "metadata": {
        "colab": {
          "base_uri": "https://localhost:8080/",
          "height": 1000
        },
        "id": "j-woysvtXjqm",
        "outputId": "9447654c-0a5c-4686-ed0f-0caea0f0fe12"
      },
      "execution_count": null,
      "outputs": [
        {
          "output_type": "stream",
          "name": "stdout",
          "text": [
            "Downloading data from https://storage.googleapis.com/tensorflow/keras-applications/resnet/resnet50_weights_tf_dim_ordering_tf_kernels_notop.h5\n",
            "94765736/94765736 [==============================] - 1s 0us/step\n",
            "Model: \"sequential\"\n",
            "_________________________________________________________________\n",
            " Layer (type)                Output Shape              Param #   \n",
            "=================================================================\n",
            " resnet50 (Functional)       (None, 7, 7, 2048)        23587712  \n",
            "                                                                 \n",
            " flatten (Flatten)           (None, 100352)            0         \n",
            "                                                                 \n",
            " dense (Dense)               (None, 128)               12845184  \n",
            "                                                                 \n",
            " dropout (Dropout)           (None, 128)               0         \n",
            "                                                                 \n",
            " dense_1 (Dense)             (None, 64)                8256      \n",
            "                                                                 \n",
            " dropout_1 (Dropout)         (None, 64)                0         \n",
            "                                                                 \n",
            " dense_2 (Dense)             (None, 3)                 195       \n",
            "                                                                 \n",
            "=================================================================\n",
            "Total params: 36441347 (139.01 MB)\n",
            "Trainable params: 12853635 (49.03 MB)\n",
            "Non-trainable params: 23587712 (89.98 MB)\n",
            "_________________________________________________________________\n",
            "Epoch 1/10\n",
            "77/77 [==============================] - 616s 8s/step - loss: 3.0975 - accuracy: 0.7091 - val_loss: 0.4582 - val_accuracy: 0.8760\n",
            "Epoch 2/10\n",
            "77/77 [==============================] - 588s 8s/step - loss: 0.5593 - accuracy: 0.8168 - val_loss: 0.3376 - val_accuracy: 0.8728\n",
            "Epoch 3/10\n",
            "77/77 [==============================] - 549s 7s/step - loss: 0.3481 - accuracy: 0.8682 - val_loss: 0.2939 - val_accuracy: 0.9005\n",
            "Epoch 4/10\n",
            "77/77 [==============================] - 548s 7s/step - loss: 0.3366 - accuracy: 0.8784 - val_loss: 0.2689 - val_accuracy: 0.9119\n",
            "Epoch 5/10\n",
            "77/77 [==============================] - 576s 8s/step - loss: 0.2723 - accuracy: 0.9009 - val_loss: 0.2108 - val_accuracy: 0.9217\n",
            "Epoch 6/10\n",
            "77/77 [==============================] - 585s 8s/step - loss: 0.2258 - accuracy: 0.9123 - val_loss: 0.1881 - val_accuracy: 0.9299\n",
            "Epoch 7/10\n",
            "77/77 [==============================] - 579s 8s/step - loss: 0.1900 - accuracy: 0.9257 - val_loss: 0.2392 - val_accuracy: 0.9119\n",
            "Epoch 8/10\n",
            "77/77 [==============================] - 545s 7s/step - loss: 0.2128 - accuracy: 0.9151 - val_loss: 0.3156 - val_accuracy: 0.8923\n",
            "Epoch 9/10\n",
            "77/77 [==============================] - 582s 8s/step - loss: 0.1579 - accuracy: 0.9372 - val_loss: 0.1911 - val_accuracy: 0.9396\n",
            "Epoch 10/10\n",
            "77/77 [==============================] - 578s 8s/step - loss: 0.1535 - accuracy: 0.9380 - val_loss: 0.1721 - val_accuracy: 0.9380\n",
            "Epoch 1/10 - Accuracy: 0.7091\n",
            "Epoch 2/10 - Accuracy: 0.8168\n",
            "Epoch 3/10 - Accuracy: 0.8682\n",
            "Epoch 4/10 - Accuracy: 0.8784\n",
            "Epoch 5/10 - Accuracy: 0.9009\n",
            "Epoch 6/10 - Accuracy: 0.9123\n",
            "Epoch 7/10 - Accuracy: 0.9257\n",
            "Epoch 8/10 - Accuracy: 0.9151\n",
            "Epoch 9/10 - Accuracy: 0.9372\n",
            "Epoch 10/10 - Accuracy: 0.9380\n"
          ]
        },
        {
          "output_type": "display_data",
          "data": {
            "text/plain": [
              "<Figure size 640x480 with 1 Axes>"
            ],
            "image/png": "[encoded data removed]"
          },
          "metadata": {}
        }
      ]
    }
  ]
}